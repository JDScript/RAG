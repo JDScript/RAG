{
 "cells": [
  {
   "cell_type": "markdown",
   "id": "f3dbe06c",
   "metadata": {},
   "source": [
    "## Some README notes first\n",
    "\n",
    "### How we do semantic chunking & featurization\n",
    "- Preprocess the caption to remove repeated sentences, i.e. made them can be directly concatenated\n",
    "- Use `oliverguhr/fullstop-punctuation-multilang-large` to recover the punctuation\n",
    "- Use `spacy` to split the text into sentences\n",
    "- Apply threshold on sentence length and time range to determine the chunking\n",
    "- Use `Siglip` for image embedding, `BGE-en-base` for text embedding\n",
    "\n",
    "See in `preprocess/featurization.py` for the details\n",
    "\n",
    "### How we do retrieval\n",
    "- Use `BGE-en-base` to encode the text\n",
    "- Retrieve the top 5 most similar text embeddings from Vector DB\n",
    "- Use `BGE-rerank` to re-rank the top 5 most similar text embeddings\n",
    "- Use `Siglip` to encode the image\n",
    "- Retrieve the top 3 most similar image embeddings from Vector DB with constraint that they should from the video of the first retrieved text chunk.\n",
    "\n",
    "See in `rag/app.py` and `rag/infrastructure/retriever.py` for the details\n",
    "\n",
    "### How we do generation\n",
    "- Use ollama and Gemma3:4b"
   ]
  },
  {
   "cell_type": "markdown",
   "id": "775dae62",
   "metadata": {},
   "source": [
    "### Following are Demonstration Videos"
   ]
  },
  {
   "cell_type": "markdown",
   "id": "e6b8dce8",
   "metadata": {},
   "source": [
    "To be noted that, cause cut the video clip takes too much time, I only cut the video into clips in the first question. In following questions, I use an HTML tag to directly control the video to jump to the specific time."
   ]
  },
  {
   "cell_type": "markdown",
   "id": "d5223e56",
   "metadata": {},
   "source": [
    "**Question 1.**: Using only the videos, explain how ResNets work."
   ]
  },
  {
   "cell_type": "markdown",
   "id": "4f9d3f4c",
   "metadata": {},
   "source": [
    "<video src=\"./demonstrations/1.resnet.mp4\" width=\"800\" height=\"450\" controls></video>"
   ]
  },
  {
   "cell_type": "markdown",
   "id": "0850e070",
   "metadata": {},
   "source": [
    "**Question 2.**: Using only the videos, explain the advantages of CNNs over fully connected networks."
   ]
  },
  {
   "cell_type": "markdown",
   "id": "4373c526",
   "metadata": {},
   "source": [
    "<video src=\"./demonstrations/2.cnn_mlp.mp4\" width=\"800\" height=\"450\" controls></video>"
   ]
  },
  {
   "cell_type": "markdown",
   "id": "5b96f12d",
   "metadata": {},
   "source": [
    "**Question 3.**: UUsing only the videos, explain the the binary cross entropy loss function."
   ]
  },
  {
   "cell_type": "markdown",
   "id": "9fd22fdb",
   "metadata": {},
   "source": [
    "<video src=\"./demonstrations/3.bce.mp4\" width=\"800\" height=\"450\" controls></video>"
   ]
  }
 ],
 "metadata": {
  "language_info": {
   "name": "python"
  }
 },
 "nbformat": 4,
 "nbformat_minor": 5
}
